{
 "cells": [
  {
   "cell_type": "markdown",
   "id": "ecd86e21",
   "metadata": {},
   "source": [
    "_Note: working in my anaconda3_reqs env_\n",
    "\n",
    "Notebook is based on original final project script: prepare_household_energy_data.R to read in raw csv and output cleaned data \"daily_energy_all_hholds.csv\"\n",
    "\n",
    "# Setup\n",
    "\n",
    "import pandas as pd\n",
    "import numpy as np"
   ]
  },
  {
   "cell_type": "code",
   "execution_count": 2,
   "id": "6c21571b",
   "metadata": {},
   "outputs": [],
   "source": [
    "import pandas as pd\n",
    "# import numpy as np"
   ]
  },
  {
   "cell_type": "markdown",
   "id": "18dcea6e",
   "metadata": {},
   "source": [
    "# Clean data"
   ]
  },
  {
   "cell_type": "code",
   "execution_count": 14,
   "id": "89487d8d",
   "metadata": {},
   "outputs": [],
   "source": [
    "# read in raw csv\n",
    "raw_data = pd.read_csv(\"raw_data/london_energy.csv\")"
   ]
  },
  {
   "cell_type": "code",
   "execution_count": 5,
   "id": "cdcbbb72",
   "metadata": {},
   "outputs": [
    {
     "data": {
      "text/html": [
       "<div>\n",
       "<style scoped>\n",
       "    .dataframe tbody tr th:only-of-type {\n",
       "        vertical-align: middle;\n",
       "    }\n",
       "\n",
       "    .dataframe tbody tr th {\n",
       "        vertical-align: top;\n",
       "    }\n",
       "\n",
       "    .dataframe thead th {\n",
       "        text-align: right;\n",
       "    }\n",
       "</style>\n",
       "<table border=\"1\" class=\"dataframe\">\n",
       "  <thead>\n",
       "    <tr style=\"text-align: right;\">\n",
       "      <th></th>\n",
       "      <th>LCLid</th>\n",
       "      <th>Date</th>\n",
       "      <th>KWH</th>\n",
       "    </tr>\n",
       "  </thead>\n",
       "  <tbody>\n",
       "    <tr>\n",
       "      <th>0</th>\n",
       "      <td>MAC000002</td>\n",
       "      <td>2012-10-12</td>\n",
       "      <td>7.098</td>\n",
       "    </tr>\n",
       "    <tr>\n",
       "      <th>1</th>\n",
       "      <td>MAC000002</td>\n",
       "      <td>2012-10-13</td>\n",
       "      <td>11.087</td>\n",
       "    </tr>\n",
       "    <tr>\n",
       "      <th>2</th>\n",
       "      <td>MAC000002</td>\n",
       "      <td>2012-10-14</td>\n",
       "      <td>13.223</td>\n",
       "    </tr>\n",
       "    <tr>\n",
       "      <th>3</th>\n",
       "      <td>MAC000002</td>\n",
       "      <td>2012-10-15</td>\n",
       "      <td>10.257</td>\n",
       "    </tr>\n",
       "    <tr>\n",
       "      <th>4</th>\n",
       "      <td>MAC000002</td>\n",
       "      <td>2012-10-16</td>\n",
       "      <td>9.769</td>\n",
       "    </tr>\n",
       "    <tr>\n",
       "      <th>...</th>\n",
       "      <td>...</td>\n",
       "      <td>...</td>\n",
       "      <td>...</td>\n",
       "    </tr>\n",
       "    <tr>\n",
       "      <th>3510428</th>\n",
       "      <td>MAC005567</td>\n",
       "      <td>2014-02-24</td>\n",
       "      <td>4.107</td>\n",
       "    </tr>\n",
       "    <tr>\n",
       "      <th>3510429</th>\n",
       "      <td>MAC005567</td>\n",
       "      <td>2014-02-25</td>\n",
       "      <td>5.762</td>\n",
       "    </tr>\n",
       "    <tr>\n",
       "      <th>3510430</th>\n",
       "      <td>MAC005567</td>\n",
       "      <td>2014-02-26</td>\n",
       "      <td>5.066</td>\n",
       "    </tr>\n",
       "    <tr>\n",
       "      <th>3510431</th>\n",
       "      <td>MAC005567</td>\n",
       "      <td>2014-02-27</td>\n",
       "      <td>3.217</td>\n",
       "    </tr>\n",
       "    <tr>\n",
       "      <th>3510432</th>\n",
       "      <td>MAC005567</td>\n",
       "      <td>2014-02-28</td>\n",
       "      <td>0.366</td>\n",
       "    </tr>\n",
       "  </tbody>\n",
       "</table>\n",
       "<p>3510433 rows × 3 columns</p>\n",
       "</div>"
      ],
      "text/plain": [
       "             LCLid        Date     KWH\n",
       "0        MAC000002  2012-10-12   7.098\n",
       "1        MAC000002  2012-10-13  11.087\n",
       "2        MAC000002  2012-10-14  13.223\n",
       "3        MAC000002  2012-10-15  10.257\n",
       "4        MAC000002  2012-10-16   9.769\n",
       "...            ...         ...     ...\n",
       "3510428  MAC005567  2014-02-24   4.107\n",
       "3510429  MAC005567  2014-02-25   5.762\n",
       "3510430  MAC005567  2014-02-26   5.066\n",
       "3510431  MAC005567  2014-02-27   3.217\n",
       "3510432  MAC005567  2014-02-28   0.366\n",
       "\n",
       "[3510433 rows x 3 columns]"
      ]
     },
     "execution_count": 5,
     "metadata": {},
     "output_type": "execute_result"
    }
   ],
   "source": [
    "raw_data"
   ]
  },
  {
   "cell_type": "code",
   "execution_count": 7,
   "id": "40358abe",
   "metadata": {},
   "outputs": [
    {
     "name": "stdout",
     "output_type": "stream",
     "text": [
      "<class 'pandas.core.frame.DataFrame'>\n",
      "RangeIndex: 3510433 entries, 0 to 3510432\n",
      "Data columns (total 3 columns):\n",
      " #   Column  Dtype  \n",
      "---  ------  -----  \n",
      " 0   LCLid   object \n",
      " 1   Date    object \n",
      " 2   KWH     float64\n",
      "dtypes: float64(1), object(2)\n",
      "memory usage: 80.3+ MB\n"
     ]
    }
   ],
   "source": [
    "raw_data.info()"
   ]
  },
  {
   "cell_type": "markdown",
   "id": "74d13e21",
   "metadata": {},
   "source": [
    "* Next step in plan is to *clean column names (all to lowercase, snake case)* -- this is tidyverse, skip for now\n",
    "* Need to use datetime data for next step, here it is encoded as \"object\", which means it is string or mixed number/string. Needs to be datetime64 for pandas"
   ]
  },
  {
   "cell_type": "code",
   "execution_count": 12,
   "id": "2c3633a6",
   "metadata": {},
   "outputs": [],
   "source": [
    "raw_data['Date'].astype(\"datetime64\")"
   ]
  },
  {
   "cell_type": "code",
   "execution_count": 13,
   "id": "10c32b9c",
   "metadata": {},
   "outputs": [
    {
     "name": "stdout",
     "output_type": "stream",
     "text": [
      "<class 'pandas.core.series.Series'>\n",
      "RangeIndex: 3510433 entries, 0 to 3510432\n",
      "Series name: Date\n",
      "Non-Null Count    Dtype         \n",
      "--------------    -----         \n",
      "3510433 non-null  datetime64[ns]\n",
      "dtypes: datetime64[ns](1)\n",
      "memory usage: 26.8 MB\n"
     ]
    }
   ],
   "source": [
    "raw_data.info()"
   ]
  },
  {
   "cell_type": "raw",
   "id": "01f1d479",
   "metadata": {},
   "source": []
  },
  {
   "cell_type": "code",
   "execution_count": 6,
   "id": "00235f11",
   "metadata": {},
   "outputs": [],
   "source": [
    "# add columns for month, season, weekday type, quarter, season (so can filter for Summer and Winter 2013)\n",
    "\n",
    "# trim data for dates: 2011-12-01 to 2014-02-27\n",
    "\n",
    "# write to new csv"
   ]
  }
 ],
 "metadata": {
  "kernelspec": {
   "display_name": "Python 3 (ipykernel)",
   "language": "python",
   "name": "python3"
  },
  "language_info": {
   "codemirror_mode": {
    "name": "ipython",
    "version": 3
   },
   "file_extension": ".py",
   "mimetype": "text/x-python",
   "name": "python",
   "nbconvert_exporter": "python",
   "pygments_lexer": "ipython3",
   "version": "3.9.7"
  },
  "varInspector": {
   "cols": {
    "lenName": 16,
    "lenType": 16,
    "lenVar": 40
   },
   "kernels_config": {
    "python": {
     "delete_cmd_postfix": "",
     "delete_cmd_prefix": "del ",
     "library": "var_list.py",
     "varRefreshCmd": "print(var_dic_list())"
    },
    "r": {
     "delete_cmd_postfix": ") ",
     "delete_cmd_prefix": "rm(",
     "library": "var_list.r",
     "varRefreshCmd": "cat(var_dic_list()) "
    }
   },
   "types_to_exclude": [
    "module",
    "function",
    "builtin_function_or_method",
    "instance",
    "_Feature"
   ],
   "window_display": false
  }
 },
 "nbformat": 4,
 "nbformat_minor": 5
}
