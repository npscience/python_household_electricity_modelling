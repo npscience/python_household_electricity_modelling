{
 "cells": [
  {
   "cell_type": "markdown",
   "id": "ab563d5c-7a42-45d6-b91b-1896dab48a48",
   "metadata": {},
   "source": [
    "_Note: working in my spring-env environment, see requirements.txt_\n",
    "\n",
    "Notebook is based on original final project script: prepare_household_energy_data.R to read in raw csv and output cleaned data \"daily_energy_all_hholds.csv\"\n",
    "\n",
    "# Setup"
   ]
  },
  {
   "cell_type": "code",
   "execution_count": 1,
   "id": "d7246ca1",
   "metadata": {},
   "outputs": [],
   "source": [
    "import pandas as pd\n",
    "import numpy as np"
   ]
  },
  {
   "cell_type": "markdown",
   "id": "e91ae1e0",
   "metadata": {},
   "source": [
    "# Clean data"
   ]
  },
  {
   "cell_type": "code",
   "execution_count": 2,
   "id": "4e8d8c3f",
   "metadata": {},
   "outputs": [],
   "source": [
    "# read in raw csv, sorted by Date column (ascending order, numerical!)\n",
    "raw_data = pd.read_csv(\"raw_data/london_energy.csv\").sort_values(by=['Date']).copy()"
   ]
  },
  {
   "cell_type": "code",
   "execution_count": 3,
   "id": "05c84e7f",
   "metadata": {},
   "outputs": [
    {
     "data": {
      "text/html": [
       "<div>\n",
       "<style scoped>\n",
       "    .dataframe tbody tr th:only-of-type {\n",
       "        vertical-align: middle;\n",
       "    }\n",
       "\n",
       "    .dataframe tbody tr th {\n",
       "        vertical-align: top;\n",
       "    }\n",
       "\n",
       "    .dataframe thead th {\n",
       "        text-align: right;\n",
       "    }\n",
       "</style>\n",
       "<table border=\"1\" class=\"dataframe\">\n",
       "  <thead>\n",
       "    <tr style=\"text-align: right;\">\n",
       "      <th></th>\n",
       "      <th>LCLid</th>\n",
       "      <th>Date</th>\n",
       "      <th>KWH</th>\n",
       "    </tr>\n",
       "  </thead>\n",
       "  <tbody>\n",
       "    <tr>\n",
       "      <th>115432</th>\n",
       "      <td>MAC000154</td>\n",
       "      <td>2011-11-23</td>\n",
       "      <td>5.798</td>\n",
       "    </tr>\n",
       "    <tr>\n",
       "      <th>110458</th>\n",
       "      <td>MAC000148</td>\n",
       "      <td>2011-11-23</td>\n",
       "      <td>1.283</td>\n",
       "    </tr>\n",
       "    <tr>\n",
       "      <th>109206</th>\n",
       "      <td>MAC000146</td>\n",
       "      <td>2011-11-23</td>\n",
       "      <td>5.619</td>\n",
       "    </tr>\n",
       "    <tr>\n",
       "      <th>111287</th>\n",
       "      <td>MAC000149</td>\n",
       "      <td>2011-11-23</td>\n",
       "      <td>2.287</td>\n",
       "    </tr>\n",
       "    <tr>\n",
       "      <th>112945</th>\n",
       "      <td>MAC000151</td>\n",
       "      <td>2011-11-23</td>\n",
       "      <td>3.273</td>\n",
       "    </tr>\n",
       "    <tr>\n",
       "      <th>...</th>\n",
       "      <td>...</td>\n",
       "      <td>...</td>\n",
       "      <td>...</td>\n",
       "    </tr>\n",
       "    <tr>\n",
       "      <th>1079411</th>\n",
       "      <td>MAC001613</td>\n",
       "      <td>2014-02-28</td>\n",
       "      <td>0.214</td>\n",
       "    </tr>\n",
       "    <tr>\n",
       "      <th>2459442</th>\n",
       "      <td>MAC004005</td>\n",
       "      <td>2014-02-28</td>\n",
       "      <td>0.042</td>\n",
       "    </tr>\n",
       "    <tr>\n",
       "      <th>2460045</th>\n",
       "      <td>MAC004006</td>\n",
       "      <td>2014-02-28</td>\n",
       "      <td>0.228</td>\n",
       "    </tr>\n",
       "    <tr>\n",
       "      <th>1078766</th>\n",
       "      <td>MAC001612</td>\n",
       "      <td>2014-02-28</td>\n",
       "      <td>0.334</td>\n",
       "    </tr>\n",
       "    <tr>\n",
       "      <th>3510432</th>\n",
       "      <td>MAC005567</td>\n",
       "      <td>2014-02-28</td>\n",
       "      <td>0.366</td>\n",
       "    </tr>\n",
       "  </tbody>\n",
       "</table>\n",
       "<p>3510433 rows × 3 columns</p>\n",
       "</div>"
      ],
      "text/plain": [
       "             LCLid        Date    KWH\n",
       "115432   MAC000154  2011-11-23  5.798\n",
       "110458   MAC000148  2011-11-23  1.283\n",
       "109206   MAC000146  2011-11-23  5.619\n",
       "111287   MAC000149  2011-11-23  2.287\n",
       "112945   MAC000151  2011-11-23  3.273\n",
       "...            ...         ...    ...\n",
       "1079411  MAC001613  2014-02-28  0.214\n",
       "2459442  MAC004005  2014-02-28  0.042\n",
       "2460045  MAC004006  2014-02-28  0.228\n",
       "1078766  MAC001612  2014-02-28  0.334\n",
       "3510432  MAC005567  2014-02-28  0.366\n",
       "\n",
       "[3510433 rows x 3 columns]"
      ]
     },
     "execution_count": 3,
     "metadata": {},
     "output_type": "execute_result"
    }
   ],
   "source": [
    "raw_data"
   ]
  },
  {
   "cell_type": "code",
   "execution_count": 4,
   "id": "14d072ce",
   "metadata": {},
   "outputs": [
    {
     "name": "stdout",
     "output_type": "stream",
     "text": [
      "<class 'pandas.core.frame.DataFrame'>\n",
      "Index: 3510433 entries, 115432 to 3510432\n",
      "Data columns (total 3 columns):\n",
      " #   Column  Dtype  \n",
      "---  ------  -----  \n",
      " 0   LCLid   object \n",
      " 1   Date    object \n",
      " 2   KWH     float64\n",
      "dtypes: float64(1), object(2)\n",
      "memory usage: 107.1+ MB\n"
     ]
    }
   ],
   "source": [
    "raw_data.info()"
   ]
  },
  {
   "cell_type": "markdown",
   "id": "ef177ff4",
   "metadata": {},
   "source": [
    "Next step in plan is to *clean column names (all to lowercase, snake case)* -- and name processed data as df:"
   ]
  },
  {
   "cell_type": "code",
   "execution_count": 5,
   "id": "2f019e12-04a7-4c77-bc2e-0462663f94e9",
   "metadata": {},
   "outputs": [],
   "source": [
    "dfclean = raw_data.rename(columns={\"LCLid\": \"lc_lid\", \"Date\": \"date\", \"KWH\": \"kwh\"}).copy()"
   ]
  },
  {
   "cell_type": "code",
   "execution_count": 6,
   "id": "5302bed5-1663-4f2e-92b3-63a68c5a7d16",
   "metadata": {},
   "outputs": [
    {
     "name": "stdout",
     "output_type": "stream",
     "text": [
      "<class 'pandas.core.frame.DataFrame'>\n",
      "Index: 3510433 entries, 115432 to 3510432\n",
      "Data columns (total 3 columns):\n",
      " #   Column  Dtype  \n",
      "---  ------  -----  \n",
      " 0   lc_lid  object \n",
      " 1   date    object \n",
      " 2   kwh     float64\n",
      "dtypes: float64(1), object(2)\n",
      "memory usage: 107.1+ MB\n"
     ]
    }
   ],
   "source": [
    "dfclean.info()"
   ]
  },
  {
   "cell_type": "markdown",
   "id": "a202995a-bd24-4999-8fa0-8f16d73f1a39",
   "metadata": {},
   "source": [
    "## Wrangle date column\n",
    "\n",
    "Need to use datetime data for next step, here it is encoded as \"object\", which means it is string or mixed number/string. Needs to be datetime64 for pandas"
   ]
  },
  {
   "cell_type": "code",
   "execution_count": 7,
   "id": "d2721e24",
   "metadata": {},
   "outputs": [],
   "source": [
    "dfclean['date']= pd.to_datetime(dfclean['date'])\n",
    "#raw_data['Date'].astype(\"datetime64\")"
   ]
  },
  {
   "cell_type": "code",
   "execution_count": 8,
   "id": "aa1ef8a1",
   "metadata": {},
   "outputs": [
    {
     "name": "stdout",
     "output_type": "stream",
     "text": [
      "<class 'pandas.core.frame.DataFrame'>\n",
      "Index: 3510433 entries, 115432 to 3510432\n",
      "Data columns (total 3 columns):\n",
      " #   Column  Dtype         \n",
      "---  ------  -----         \n",
      " 0   lc_lid  object        \n",
      " 1   date    datetime64[ns]\n",
      " 2   kwh     float64       \n",
      "dtypes: datetime64[ns](1), float64(1), object(1)\n",
      "memory usage: 107.1+ MB\n"
     ]
    }
   ],
   "source": [
    "dfclean.info()"
   ]
  },
  {
   "cell_type": "markdown",
   "id": "e7e3dea0-6982-42cc-9509-2ae820d8733a",
   "metadata": {},
   "source": [
    "### trim data for dates: 2011-12-01 to 2014-02-27\n",
    "\n"
   ]
  },
  {
   "cell_type": "code",
   "execution_count": 9,
   "id": "a19e9faa-093d-4bba-a1fa-d6f2e371c2ad",
   "metadata": {},
   "outputs": [],
   "source": [
    "### trim data for dates: 2011-12-01 to 2014-02-27\n",
    "df = dfclean[(dfclean['date'] >= '2011-12-01') & (dfclean['date'] <= '2014-02-27')].copy()"
   ]
  },
  {
   "cell_type": "markdown",
   "id": "6574d8b4-c748-4ef7-bc11-036572b79fcd",
   "metadata": {},
   "source": [
    "Trimmed from 3510433 entries (dfclean) to 3505100 (df) - check what has been removed"
   ]
  },
  {
   "cell_type": "code",
   "execution_count": 10,
   "id": "5ba1f64c-480a-4db7-a017-6c87f4630bb1",
   "metadata": {},
   "outputs": [
    {
     "data": {
      "text/plain": [
       "Timestamp('2011-11-23 00:00:00')"
      ]
     },
     "execution_count": 10,
     "metadata": {},
     "output_type": "execute_result"
    }
   ],
   "source": [
    "min(dfclean['date'])"
   ]
  },
  {
   "cell_type": "code",
   "execution_count": 11,
   "id": "2fa66a9b-17fb-41a6-a619-eda3f4eb3214",
   "metadata": {},
   "outputs": [
    {
     "data": {
      "text/plain": [
       "Timestamp('2014-02-28 00:00:00')"
      ]
     },
     "execution_count": 11,
     "metadata": {},
     "output_type": "execute_result"
    }
   ],
   "source": [
    "max(dfclean['date'])"
   ]
  },
  {
   "cell_type": "code",
   "execution_count": 12,
   "id": "f23e231b-130d-42ad-900f-b61004e97670",
   "metadata": {},
   "outputs": [
    {
     "data": {
      "text/plain": [
       "Timestamp('2011-12-01 00:00:00')"
      ]
     },
     "execution_count": 12,
     "metadata": {},
     "output_type": "execute_result"
    }
   ],
   "source": [
    "min(df['date'])"
   ]
  },
  {
   "cell_type": "code",
   "execution_count": 13,
   "id": "bf2b2523-d8e1-4da4-9643-2bc0561329c2",
   "metadata": {},
   "outputs": [
    {
     "data": {
      "text/plain": [
       "Timestamp('2014-02-27 00:00:00')"
      ]
     },
     "execution_count": 13,
     "metadata": {},
     "output_type": "execute_result"
    }
   ],
   "source": [
    "max(df['date'])"
   ]
  },
  {
   "cell_type": "code",
   "execution_count": 14,
   "id": "ef648d66-8a81-4b81-a825-b3b771889136",
   "metadata": {},
   "outputs": [
    {
     "data": {
      "text/plain": [
       "5333"
      ]
     },
     "execution_count": 14,
     "metadata": {},
     "output_type": "execute_result"
    }
   ],
   "source": [
    "dfclean.shape[0]-df.shape[0]"
   ]
  },
  {
   "cell_type": "markdown",
   "id": "e035fa07-1db1-496c-89f2-751c4df5ec20",
   "metadata": {},
   "source": [
    "trim removes 5333 rows. Note: .shape is the df structure, [0] is for rows, [1] is for columns.\n",
    "\n",
    "Can also check the complement:"
   ]
  },
  {
   "cell_type": "code",
   "execution_count": 15,
   "id": "a3619f01-2026-4606-aa2a-6c93c4f80d8c",
   "metadata": {},
   "outputs": [
    {
     "data": {
      "text/plain": [
       "date\n",
       "2014-02-28    4987\n",
       "2011-11-30      76\n",
       "2011-11-29      63\n",
       "2011-11-28      55\n",
       "2011-11-26      41\n",
       "2011-11-27      41\n",
       "2011-11-25      32\n",
       "2011-11-24      25\n",
       "2011-11-23      13\n",
       "Name: count, dtype: int64"
      ]
     },
     "execution_count": 15,
     "metadata": {},
     "output_type": "execute_result"
    }
   ],
   "source": [
    "# use ~ as NOT IN (set membership) clause - specific to pandas\n",
    "dfbin = dfclean[~((dfclean['date'] >= '2011-12-01') & (dfclean['date'] <= '2014-02-27'))].copy()\n",
    "dfbin['date'].value_counts()"
   ]
  },
  {
   "cell_type": "markdown",
   "id": "d6cc5236-5115-4ee4-81d1-0a6d565425cd",
   "metadata": {},
   "source": [
    "This looks correct."
   ]
  },
  {
   "cell_type": "code",
   "execution_count": 20,
   "id": "a5694eba-e9ab-4f18-a120-ce0f6b293c59",
   "metadata": {},
   "outputs": [
    {
     "data": {
      "text/html": [
       "<div>\n",
       "<style scoped>\n",
       "    .dataframe tbody tr th:only-of-type {\n",
       "        vertical-align: middle;\n",
       "    }\n",
       "\n",
       "    .dataframe tbody tr th {\n",
       "        vertical-align: top;\n",
       "    }\n",
       "\n",
       "    .dataframe thead th {\n",
       "        text-align: right;\n",
       "    }\n",
       "</style>\n",
       "<table border=\"1\" class=\"dataframe\">\n",
       "  <thead>\n",
       "    <tr style=\"text-align: right;\">\n",
       "      <th></th>\n",
       "      <th>lc_lid</th>\n",
       "      <th>date</th>\n",
       "      <th>kwh</th>\n",
       "    </tr>\n",
       "  </thead>\n",
       "  <tbody>\n",
       "    <tr>\n",
       "      <th>164829</th>\n",
       "      <td>MAC000216</td>\n",
       "      <td>2011-12-01</td>\n",
       "      <td>18.689</td>\n",
       "    </tr>\n",
       "    <tr>\n",
       "      <th>142390</th>\n",
       "      <td>MAC000188</td>\n",
       "      <td>2011-12-01</td>\n",
       "      <td>3.854</td>\n",
       "    </tr>\n",
       "    <tr>\n",
       "      <th>115969</th>\n",
       "      <td>MAC000155</td>\n",
       "      <td>2011-12-01</td>\n",
       "      <td>11.794</td>\n",
       "    </tr>\n",
       "    <tr>\n",
       "      <th>136082</th>\n",
       "      <td>MAC000180</td>\n",
       "      <td>2011-12-01</td>\n",
       "      <td>7.821</td>\n",
       "    </tr>\n",
       "    <tr>\n",
       "      <th>156610</th>\n",
       "      <td>MAC000206</td>\n",
       "      <td>2011-12-01</td>\n",
       "      <td>10.399</td>\n",
       "    </tr>\n",
       "    <tr>\n",
       "      <th>...</th>\n",
       "      <td>...</td>\n",
       "      <td>...</td>\n",
       "      <td>...</td>\n",
       "    </tr>\n",
       "    <tr>\n",
       "      <th>3472396</th>\n",
       "      <td>MAC005503</td>\n",
       "      <td>2014-02-27</td>\n",
       "      <td>4.611</td>\n",
       "    </tr>\n",
       "    <tr>\n",
       "      <th>588547</th>\n",
       "      <td>MAC000832</td>\n",
       "      <td>2014-02-27</td>\n",
       "      <td>10.749</td>\n",
       "    </tr>\n",
       "    <tr>\n",
       "      <th>2449287</th>\n",
       "      <td>MAC003988</td>\n",
       "      <td>2014-02-27</td>\n",
       "      <td>3.171</td>\n",
       "    </tr>\n",
       "    <tr>\n",
       "      <th>3159766</th>\n",
       "      <td>MAC005045</td>\n",
       "      <td>2014-02-27</td>\n",
       "      <td>4.720</td>\n",
       "    </tr>\n",
       "    <tr>\n",
       "      <th>3280716</th>\n",
       "      <td>MAC005233</td>\n",
       "      <td>2014-02-27</td>\n",
       "      <td>6.657</td>\n",
       "    </tr>\n",
       "  </tbody>\n",
       "</table>\n",
       "<p>3505100 rows × 3 columns</p>\n",
       "</div>"
      ],
      "text/plain": [
       "            lc_lid       date     kwh\n",
       "164829   MAC000216 2011-12-01  18.689\n",
       "142390   MAC000188 2011-12-01   3.854\n",
       "115969   MAC000155 2011-12-01  11.794\n",
       "136082   MAC000180 2011-12-01   7.821\n",
       "156610   MAC000206 2011-12-01  10.399\n",
       "...            ...        ...     ...\n",
       "3472396  MAC005503 2014-02-27   4.611\n",
       "588547   MAC000832 2014-02-27  10.749\n",
       "2449287  MAC003988 2014-02-27   3.171\n",
       "3159766  MAC005045 2014-02-27   4.720\n",
       "3280716  MAC005233 2014-02-27   6.657\n",
       "\n",
       "[3505100 rows x 3 columns]"
      ]
     },
     "execution_count": 20,
     "metadata": {},
     "output_type": "execute_result"
    }
   ],
   "source": [
    "df # see current df"
   ]
  },
  {
   "cell_type": "markdown",
   "id": "68e4b092-805c-4fc9-aa9c-e1230613aac9",
   "metadata": {},
   "source": [
    "### add columns for month, season, quarter, weekday type (so can filter for Summer and Winter 2013)"
   ]
  },
  {
   "cell_type": "code",
   "execution_count": 17,
   "id": "983ba706-4c7d-4797-899c-875497280d01",
   "metadata": {},
   "outputs": [],
   "source": [
    "# create month, weekday, quarter columns from date\n",
    "#dftrim['month'] = pd.DatetimeIndex(dftrim['date']).month #month as a number\n",
    "#dftrim['wday'] = pd.DatetimeIndex(dftrim['date']).weekday #The day of the week with Monday=0, Sunday=6.\n",
    "#dftrim['qtr'] = pd.DatetimeIndex(dftrim['date']).quarter"
   ]
  },
  {
   "cell_type": "markdown",
   "id": "ffe9cd9e-ab5d-4b80-a769-cc6a3de9718e",
   "metadata": {},
   "source": [
    "Want to create season where month 12-2 is winter\n",
    "\n",
    "DatetimeIndex.quarter uses month 1-3 as quarter 1\n",
    "\n",
    "could manually create conditional column (where month = 12,1,2; winter)\n",
    "or could make new col as date +1 month and generate quarter from this\n",
    "\n",
    "ultimately want one col with yearseason by which to filter"
   ]
  },
  {
   "cell_type": "code",
   "execution_count": 18,
   "id": "68c0ad44-5241-434e-956d-141d213e48a0",
   "metadata": {},
   "outputs": [],
   "source": [
    "#df[(df.month == 12)] "
   ]
  },
  {
   "cell_type": "markdown",
   "id": "31b54572-06da-4026-abfb-f7798985865f",
   "metadata": {},
   "source": [
    "### write to new csv"
   ]
  },
  {
   "cell_type": "code",
   "execution_count": null,
   "id": "061cd2f9-3ae1-4ce7-9154-277ce9a9ea89",
   "metadata": {},
   "outputs": [],
   "source": []
  }
 ],
 "metadata": {
  "kernelspec": {
   "display_name": "spring-env",
   "language": "python",
   "name": "spring-env"
  },
  "language_info": {
   "codemirror_mode": {
    "name": "ipython",
    "version": 3
   },
   "file_extension": ".py",
   "mimetype": "text/x-python",
   "name": "python",
   "nbconvert_exporter": "python",
   "pygments_lexer": "ipython3",
   "version": "3.12.2"
  },
  "varInspector": {
   "cols": {
    "lenName": 16,
    "lenType": 16,
    "lenVar": 40
   },
   "kernels_config": {
    "python": {
     "delete_cmd_postfix": "",
     "delete_cmd_prefix": "del ",
     "library": "var_list.py",
     "varRefreshCmd": "print(var_dic_list())"
    },
    "r": {
     "delete_cmd_postfix": ") ",
     "delete_cmd_prefix": "rm(",
     "library": "var_list.r",
     "varRefreshCmd": "cat(var_dic_list()) "
    }
   },
   "types_to_exclude": [
    "module",
    "function",
    "builtin_function_or_method",
    "instance",
    "_Feature"
   ],
   "window_display": false
  }
 },
 "nbformat": 4,
 "nbformat_minor": 5
}
